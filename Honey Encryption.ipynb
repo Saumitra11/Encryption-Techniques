{
 "cells": [
  {
   "cell_type": "markdown",
   "id": "2fde9b76",
   "metadata": {},
   "source": [
    "<div class=\"alert alert-block alert-info\">\n",
    "<h1><i>Honey Encryption</i></h1>---------------------------------------------- \n",
    "\n",
    "<h4><q>This code shows implementation of Honey Encrytion with the help of Python</q></h4>"
   ]
  },
  {
   "cell_type": "markdown",
   "id": "690dd347",
   "metadata": {},
   "source": [
    "<div class=\"alert alert-block alert-warning\">\n",
    "<q><i>Importing</i></q>"
   ]
  },
  {
   "cell_type": "code",
   "execution_count": 1,
   "id": "9deb00d2",
   "metadata": {},
   "outputs": [],
   "source": [
    "import random\n",
    "from pprint import pprint"
   ]
  },
  {
   "cell_type": "markdown",
   "id": "782dc7ee",
   "metadata": {},
   "source": [
    "<div class=\"alert alert-block alert-warning\">\n",
    "    <q><i>Encryption Begins...<i></q>"
   ]
  },
  {
   "cell_type": "code",
   "execution_count": 3,
   "id": "13642b87",
   "metadata": {},
   "outputs": [
    {
     "name": "stdout",
     "output_type": "stream",
     "text": [
      "Please enter a password: ISAAproject@123\n",
      "Please enter a secret message to store (one word): hello\n",
      "Your password is ISAAproject@123, your seed value is 11, and your secret message is hello\n",
      "=====================================\n",
      "['isaaproject@123',\n",
      " 'ISAAPROJECT@123135',\n",
      " 'ISAAproject@12391',\n",
      " 'ISAAPROJECT@123',\n",
      " 'ISAAproject@123',\n",
      " 'isaaproject@123123',\n",
      " 'ISAAproject@12310']\n",
      "Enter a password to crack: ISAAproject@123\n",
      "'hello'\n",
      "Would you like to enter another inquiry (Y/N):  Y\n",
      "Please enter a password: ISAAproject@123\n",
      "Please enter a secret message to store (one word): hello\n",
      "Your password is ISAAproject@123, your seed value is 13, and your secret message is hello\n",
      "=====================================\n",
      "['ISAAproject@12312',\n",
      " 'ISAAproject@123',\n",
      " 'ISAAPROJECT@123155',\n",
      " 'isaaproject@123143',\n",
      " 'ISAAPROJECT@123',\n",
      " 'ISAAproject@123111',\n",
      " 'isaaproject@123']\n",
      "Enter a password to crack: ISAAPROJECT@123\n",
      "Intruder! SOUNDING ALARM!\n",
      "'invalid msg'\n",
      "Would you like to enter another inquiry (Y/N):  Y\n",
      "Please enter a password: ISAAproject@123\n",
      "Please enter a secret message to store (one word): hello\n",
      "Your password is ISAAproject@123, your seed value is 27, and your secret message is hello\n",
      "=====================================\n",
      "['isaaproject@123',\n",
      " 'ISAAPROJECT@123295',\n",
      " 'ISAAproject@12326',\n",
      " 'ISAAproject@123251',\n",
      " 'ISAAproject@123',\n",
      " 'ISAAPROJECT@123',\n",
      " 'isaaproject@123283']\n",
      "Enter a password to crack: isaaproject123\n",
      "Password not found. \n",
      "Would you like to enter another inquiry (Y/N):  N\n",
      "\n",
      "Thank you for testing Honey Encryption\n"
     ]
    }
   ],
   "source": [
    "# Function prototyping\n",
    "def validate(char):\n",
    "    # Input validation\n",
    "\twhile char != 'Y' and char != 'y' and char != 'N' and char != 'n':\n",
    "            char = input(\"Would you like to enter another inquiry? (Y/N) \")\n",
    "\n",
    "# Prompts user and defines variables\n",
    "while True:\n",
    "    userPass = input(\"Please enter a password: \")\n",
    "    message = input(\"Please enter a secret message to store (one word): \")\n",
    "    passwordsToSeeds = {}   # dictionary\n",
    "    seedsToMessages = {}    # dictionary\n",
    "    trueSeed = random.randint(10, 27)    # Random seed value\n",
    "    \n",
    "#     ' Verify input with the user '\n",
    "    print(\"Your password is \" + userPass\n",
    "          + \", your seed value is \" + str(trueSeed)\n",
    "          + \", and your secret message is \" + message\n",
    "          + \"\\n=====================================\")\n",
    "\n",
    "    # Seed generator + Sweetwords generator\n",
    "    # Manipulate the password input by the user\n",
    "    #   Add a string to that password\n",
    "    #   Seeds should remain as integers that\n",
    "    #   be converted into binary digits\n",
    "    passwordsToSeeds[userPass] = trueSeed\n",
    "    seedsToMessages[trueSeed] = message\n",
    "\n",
    "    passwordsToSeeds[userPass + str(trueSeed - 1)] = trueSeed + 1\n",
    "    seedsToMessages[trueSeed + 1] = 'invalid msg'\n",
    "\n",
    "    passwordsToSeeds[userPass + str(trueSeed - 2) + \"1\"] = trueSeed + 2\n",
    "    seedsToMessages[trueSeed + 2] = 'invalid msg'\n",
    "\n",
    "    passwordsToSeeds[userPass.lower()] = trueSeed + 3\n",
    "    seedsToMessages[trueSeed + 3] = 'invalid msg'\n",
    "\n",
    "    passwordsToSeeds[userPass.lower() + str(trueSeed + 1) + \"3\"] = trueSeed + 4\n",
    "    seedsToMessages[trueSeed + 4] = 'invalid msg'\n",
    "\n",
    "    passwordsToSeeds[userPass.upper()] = trueSeed + 5\n",
    "    seedsToMessages[trueSeed + 5] = 'invalid msg'\n",
    "\n",
    "    passwordsToSeeds[userPass.upper() + str(trueSeed + 2) + \"5\"] = trueSeed + 6\n",
    "    seedsToMessages[trueSeed + 6] = 'invalid msg'\n",
    "\n",
    "    # ENCRYPTION: c = sk XOR sm\n",
    "    cipher = int(passwordsToSeeds[userPass]) ^ trueSeed\n",
    "\n",
    "    # Shuffle the passwords and display them on the screen to begin the game\n",
    "    passwords = list(passwordsToSeeds.keys())\n",
    "    random.shuffle(passwords)                   # Shuffle the passwords\n",
    "    pprint(passwords)                           # Display results\n",
    "\n",
    "    # Prompt the user to crack this password\n",
    "    try:\n",
    "        query = input(\"Enter a password to crack: \")\n",
    "        keySeed = passwordsToSeeds[query]\n",
    "        # DECRYPTION: m = sk XOR c\n",
    "        m = keySeed ^ cipher                        # ^ == XOR\n",
    "\n",
    "        if m != trueSeed:                       # Honey checker\n",
    "            print(\"Intruder! SOUNDING ALARM!\")  # If seeds don’t match, this is an intruder\n",
    "\n",
    "        # Check seeds\n",
    "        pprint(seedsToMessages[m])\n",
    "    except KeyError:\n",
    "        print(\"Password not found. \")\n",
    "\n",
    "    # Prompt the user to try another password\n",
    "    retry = input(\"Would you like to enter another inquiry (Y/N):  \")\n",
    "    validate(retry)  # Validates input\n",
    "\n",
    "    # Ends program by breaking out of the loop\n",
    "    if retry == 'N' or retry == 'n':\n",
    "        break\n",
    "\n",
    "# Goodbye message\n",
    "print(\"\\nThank you for testing Honey Encryption\")"
   ]
  },
  {
   "cell_type": "markdown",
   "id": "97557ad4",
   "metadata": {},
   "source": [
    "________________________________________________________________________________________________\n",
    "<div class=\"alert alert-block alert-success\">\n",
    "<q><i>Successful</i></q>"
   ]
  }
 ],
 "metadata": {
  "kernelspec": {
   "display_name": "Python 3 (ipykernel)",
   "language": "python",
   "name": "python3"
  },
  "language_info": {
   "codemirror_mode": {
    "name": "ipython",
    "version": 3
   },
   "file_extension": ".py",
   "mimetype": "text/x-python",
   "name": "python",
   "nbconvert_exporter": "python",
   "pygments_lexer": "ipython3",
   "version": "3.8.12"
  }
 },
 "nbformat": 4,
 "nbformat_minor": 5
}
